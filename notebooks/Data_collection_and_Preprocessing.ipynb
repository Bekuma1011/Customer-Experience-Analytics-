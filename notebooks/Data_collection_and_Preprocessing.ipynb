{
 "cells": [
  {
   "cell_type": "code",
   "execution_count": null,
   "id": "01bedec9",
   "metadata": {},
   "outputs": [],
   "source": [
    "# Enable import from parent directory (src/)\n",
    "import sys\n",
    "import os\n",
    "sys.path.append(os.path.abspath(\"../src\"))\n"
   ]
  },
  {
   "cell_type": "code",
   "execution_count": 2,
   "id": "f2cf6fce",
   "metadata": {},
   "outputs": [],
   "source": [
    "# Import classes\n",
    "from scrape import ReviewScraper\n",
    "from preprocess import ReviewPreprocessor\n"
   ]
  },
  {
   "cell_type": "markdown",
   "id": "a6657da5",
   "metadata": {},
   "source": [
    "### Scrape reviews"
   ]
  },
  {
   "cell_type": "code",
   "execution_count": null,
   "id": "961b743c",
   "metadata": {},
   "outputs": [
    {
     "name": "stdout",
     "output_type": "stream",
     "text": [
      "Fetching reviews for CBE...\n",
      "Fetching reviews for BoA...\n",
      "Fetching reviews for Dashen...\n",
      "Saved scraped data to ../data/raw_reviews.csv\n"
     ]
    }
   ],
   "source": [
    "\n",
    "apps = {\n",
    "    \"CBE\": \"com.combanketh.mobilebanking\",\n",
    "    \"BoA\": \"com.boa.boaMobileBanking\",\n",
    "    \"Dashen\": \"com.dashen.dashensuperapp\"\n",
    "}\n",
    "#create scraper instance\n",
    "scraper = ReviewScraper(apps)\n",
    "# extract each review\n",
    "scraper.fetch_reviews()\n",
    "# save the data\n",
    "scraper.save_to_csv(\"../data/raw_reviews.csv\")\n"
   ]
  },
  {
   "cell_type": "markdown",
   "id": "1c3087b9",
   "metadata": {},
   "source": [
    "### Data Cleaning & Preprocessing"
   ]
  },
  {
   "cell_type": "code",
   "execution_count": 4,
   "id": "1b446f15",
   "metadata": {},
   "outputs": [
    {
     "name": "stdout",
     "output_type": "stream",
     "text": [
      "Loading data...\n",
      "Cleaning data...\n",
      "Cleaned data saved to ../data/clean_reviews.csv\n",
      "\n",
      " Review counts per bank:\n",
      "bank\n",
      "CBE       400\n",
      "BoA       400\n",
      "Dashen    400\n",
      "Name: count, dtype: int64\n"
     ]
    }
   ],
   "source": [
    "# Preprocess and save cleaned data\n",
    "cleaner = ReviewPreprocessor(\"../data/raw_reviews.csv\", \"../data/clean_reviews.csv\")\n",
    "cleaner.load_data()\n",
    "cleaner.clean_data()\n",
    "cleaner.save_cleaned_data()\n",
    "cleaner.show_stats()\n"
   ]
  },
  {
   "cell_type": "code",
   "execution_count": 6,
   "id": "19a8c754",
   "metadata": {},
   "outputs": [
    {
     "data": {
      "text/html": [
       "<div>\n",
       "<style scoped>\n",
       "    .dataframe tbody tr th:only-of-type {\n",
       "        vertical-align: middle;\n",
       "    }\n",
       "\n",
       "    .dataframe tbody tr th {\n",
       "        vertical-align: top;\n",
       "    }\n",
       "\n",
       "    .dataframe thead th {\n",
       "        text-align: right;\n",
       "    }\n",
       "</style>\n",
       "<table border=\"1\" class=\"dataframe\">\n",
       "  <thead>\n",
       "    <tr style=\"text-align: right;\">\n",
       "      <th></th>\n",
       "      <th>review</th>\n",
       "      <th>rating</th>\n",
       "      <th>date</th>\n",
       "      <th>bank</th>\n",
       "      <th>source</th>\n",
       "    </tr>\n",
       "  </thead>\n",
       "  <tbody>\n",
       "    <tr>\n",
       "      <th>0</th>\n",
       "      <td>the app is proactive and a good connections.</td>\n",
       "      <td>5</td>\n",
       "      <td>2025-06-05</td>\n",
       "      <td>CBE</td>\n",
       "      <td>Google Play</td>\n",
       "    </tr>\n",
       "    <tr>\n",
       "      <th>1</th>\n",
       "      <td>I cannot send to cbebirr app. through this app.</td>\n",
       "      <td>3</td>\n",
       "      <td>2025-06-05</td>\n",
       "      <td>CBE</td>\n",
       "      <td>Google Play</td>\n",
       "    </tr>\n",
       "    <tr>\n",
       "      <th>2</th>\n",
       "      <td>good</td>\n",
       "      <td>4</td>\n",
       "      <td>2025-06-05</td>\n",
       "      <td>CBE</td>\n",
       "      <td>Google Play</td>\n",
       "    </tr>\n",
       "    <tr>\n",
       "      <th>3</th>\n",
       "      <td>not functional</td>\n",
       "      <td>1</td>\n",
       "      <td>2025-06-05</td>\n",
       "      <td>CBE</td>\n",
       "      <td>Google Play</td>\n",
       "    </tr>\n",
       "    <tr>\n",
       "      <th>4</th>\n",
       "      <td>everytime you uninstall the app you have to re...</td>\n",
       "      <td>1</td>\n",
       "      <td>2025-06-04</td>\n",
       "      <td>CBE</td>\n",
       "      <td>Google Play</td>\n",
       "    </tr>\n",
       "    <tr>\n",
       "      <th>...</th>\n",
       "      <td>...</td>\n",
       "      <td>...</td>\n",
       "      <td>...</td>\n",
       "      <td>...</td>\n",
       "      <td>...</td>\n",
       "    </tr>\n",
       "    <tr>\n",
       "      <th>1195</th>\n",
       "      <td>It has a Good performance but need more upgrad...</td>\n",
       "      <td>4</td>\n",
       "      <td>2025-01-17</td>\n",
       "      <td>Dashen</td>\n",
       "      <td>Google Play</td>\n",
       "    </tr>\n",
       "    <tr>\n",
       "      <th>1196</th>\n",
       "      <td>It is a very wonderful work that has saved its...</td>\n",
       "      <td>5</td>\n",
       "      <td>2025-01-17</td>\n",
       "      <td>Dashen</td>\n",
       "      <td>Google Play</td>\n",
       "    </tr>\n",
       "    <tr>\n",
       "      <th>1197</th>\n",
       "      <td>“Life-changing!” I can’t imagine going back to...</td>\n",
       "      <td>5</td>\n",
       "      <td>2025-01-17</td>\n",
       "      <td>Dashen</td>\n",
       "      <td>Google Play</td>\n",
       "    </tr>\n",
       "    <tr>\n",
       "      <th>1198</th>\n",
       "      <td>Pro max</td>\n",
       "      <td>5</td>\n",
       "      <td>2025-01-17</td>\n",
       "      <td>Dashen</td>\n",
       "      <td>Google Play</td>\n",
       "    </tr>\n",
       "    <tr>\n",
       "      <th>1199</th>\n",
       "      <td>The most good app and easy</td>\n",
       "      <td>5</td>\n",
       "      <td>2025-01-16</td>\n",
       "      <td>Dashen</td>\n",
       "      <td>Google Play</td>\n",
       "    </tr>\n",
       "  </tbody>\n",
       "</table>\n",
       "<p>1200 rows × 5 columns</p>\n",
       "</div>"
      ],
      "text/plain": [
       "                                                 review  rating        date  \\\n",
       "0          the app is proactive and a good connections.       5  2025-06-05   \n",
       "1       I cannot send to cbebirr app. through this app.       3  2025-06-05   \n",
       "2                                                  good       4  2025-06-05   \n",
       "3                                        not functional       1  2025-06-05   \n",
       "4     everytime you uninstall the app you have to re...       1  2025-06-04   \n",
       "...                                                 ...     ...         ...   \n",
       "1195  It has a Good performance but need more upgrad...       4  2025-01-17   \n",
       "1196  It is a very wonderful work that has saved its...       5  2025-01-17   \n",
       "1197  “Life-changing!” I can’t imagine going back to...       5  2025-01-17   \n",
       "1198                                            Pro max       5  2025-01-17   \n",
       "1199                         The most good app and easy       5  2025-01-16   \n",
       "\n",
       "        bank       source  \n",
       "0        CBE  Google Play  \n",
       "1        CBE  Google Play  \n",
       "2        CBE  Google Play  \n",
       "3        CBE  Google Play  \n",
       "4        CBE  Google Play  \n",
       "...      ...          ...  \n",
       "1195  Dashen  Google Play  \n",
       "1196  Dashen  Google Play  \n",
       "1197  Dashen  Google Play  \n",
       "1198  Dashen  Google Play  \n",
       "1199  Dashen  Google Play  \n",
       "\n",
       "[1200 rows x 5 columns]"
      ]
     },
     "execution_count": 6,
     "metadata": {},
     "output_type": "execute_result"
    }
   ],
   "source": [
    "cleaner.df"
   ]
  }
 ],
 "metadata": {
  "kernelspec": {
   "display_name": "venv",
   "language": "python",
   "name": "python3"
  },
  "language_info": {
   "codemirror_mode": {
    "name": "ipython",
    "version": 3
   },
   "file_extension": ".py",
   "mimetype": "text/x-python",
   "name": "python",
   "nbconvert_exporter": "python",
   "pygments_lexer": "ipython3",
   "version": "3.13.3"
  }
 },
 "nbformat": 4,
 "nbformat_minor": 5
}
